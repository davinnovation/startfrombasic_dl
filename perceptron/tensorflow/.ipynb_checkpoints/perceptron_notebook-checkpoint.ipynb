{
 "cells": [
  {
   "cell_type": "code",
   "execution_count": 1,
   "metadata": {},
   "outputs": [],
   "source": [
    "import os\n",
    "import sys"
   ]
  },
  {
   "cell_type": "code",
   "execution_count": 2,
   "metadata": {},
   "outputs": [],
   "source": [
    "sys.path.append(os.path.dirname(os.path.abspath(os.path.dirname(os.path.abspath(os.path.dirname(\"__file__\"))))))"
   ]
  },
  {
   "cell_type": "code",
   "execution_count": 3,
   "metadata": {},
   "outputs": [],
   "source": [
    "from tensorboard_utils import variable_summaries"
   ]
  },
  {
   "cell_type": "markdown",
   "metadata": {},
   "source": [
    "# Model Define"
   ]
  },
  {
   "cell_type": "markdown",
   "metadata": {},
   "source": [
    "## Perceptron"
   ]
  },
  {
   "cell_type": "code",
   "execution_count": 4,
   "metadata": {
    "collapsed": true
   },
   "outputs": [],
   "source": [
    "class Perceptron(object):\n",
    "    def __init__(self, input_data, output_size):\n",
    "        self.X = input_data # input_Data == tf.placeholder([Batch,Size])\n",
    "\n",
    "        # check data type\n",
    "        if len(input_data.shape) != 2:\n",
    "            raise ValueError(\"Wrong input data shape - \" + self.__class__.__name__)\n",
    "\n",
    "        input_size = input_data.shape[-1]\n",
    "        # block 1\n",
    "        self.W1 = tf.Variable(tf.zeros([input_size, output_size]))\n",
    "        self.b1 = tf.Variable(tf.zeros([output_size]))\n",
    "\n",
    "        self.output = tf.matmul(self.X, self.W1) + self.b1"
   ]
  },
  {
   "cell_type": "markdown",
   "metadata": {},
   "source": [
    "## Feedforward"
   ]
  },
  {
   "cell_type": "code",
   "execution_count": 13,
   "metadata": {},
   "outputs": [],
   "source": [
    "class Feedforward(object):\n",
    "    def __init__(self, input_data, output_size, hidden_layers_size):\n",
    "        self.X = input_data # input_Data == tf.placeholder([Batch,Size])\n",
    "\n",
    "        if len(input_data.shape) != 2:\n",
    "            raise ValueError(\"Wrong input data shape - \" + self.__class__.__name__)\n",
    "        if type([]) != type(hidden_layers_size):\n",
    "            raise ValueError(\"Wrong hidden_layer_size - \" + self.__class__.__name__)\n",
    "\n",
    "        input_size = input_data.shape[-1]\n",
    "        # blocks\n",
    "        self.Ws = []\n",
    "        self.bs = []\n",
    "        loop = [input_size] + hidden_layers_size + [output_size]\n",
    "        with tf.name_scope('Feedforward_hidden_layers'):\n",
    "            for i in range(len(loop) - 1):\n",
    "                with tf.name_scope('hidden_'+str(i)):\n",
    "                    with tf.name_scope('weights'):\n",
    "                        self.Ws.append(tf.Variable(tf.zeros([loop[i], loop[i+1]])))\n",
    "                        variable_summaries(self.Ws[-1])\n",
    "                    with tf.name_scope('bias'):\n",
    "                        self.bs.append(tf.Variable(tf.zeros(loop[i+1])))\n",
    "                        variable_summaries(self.bs[-1])\n",
    "\n",
    "        self.output = self.X\n",
    "        for i in range(len(self.Ws)):\n",
    "            self.output = tf.matmul(self.output, self.Ws[i]) + self.bs[i]\n",
    "        tf.summary.histogram('output', self.output)"
   ]
  },
  {
   "cell_type": "markdown",
   "metadata": {},
   "source": [
    "# Datagen"
   ]
  },
  {
   "cell_type": "code",
   "execution_count": 14,
   "metadata": {
    "collapsed": true
   },
   "outputs": [],
   "source": [
    "import numpy as np"
   ]
  },
  {
   "cell_type": "code",
   "execution_count": 15,
   "metadata": {
    "collapsed": true
   },
   "outputs": [],
   "source": [
    "from sklearn.datasets import load_boston\n",
    "from sklearn.model_selection import train_test_split"
   ]
  },
  {
   "cell_type": "code",
   "execution_count": 16,
   "metadata": {
    "collapsed": true
   },
   "outputs": [],
   "source": [
    "X, y = load_boston(return_X_y=True)\n",
    "X_train, X_test, y_train, y_test = train_test_split(X, y, test_size=0.2)"
   ]
  },
  {
   "cell_type": "code",
   "execution_count": 17,
   "metadata": {},
   "outputs": [
    {
     "name": "stdout",
     "output_type": "stream",
     "text": [
      "(404, 13) (404,)\n"
     ]
    }
   ],
   "source": [
    "print(X_train.shape, y_train.shape)"
   ]
  },
  {
   "cell_type": "code",
   "execution_count": 18,
   "metadata": {},
   "outputs": [],
   "source": [
    "y_train = y_train.reshape([y_train.shape[0],1])\n",
    "y_test = y_test.reshape([y_test.shape[0],1])"
   ]
  },
  {
   "cell_type": "markdown",
   "metadata": {},
   "source": [
    "# Train"
   ]
  },
  {
   "cell_type": "code",
   "execution_count": 19,
   "metadata": {
    "collapsed": true
   },
   "outputs": [],
   "source": [
    "import tensorflow as tf"
   ]
  },
  {
   "cell_type": "code",
   "execution_count": 20,
   "metadata": {},
   "outputs": [],
   "source": [
    "input_layer = tf.placeholder(dtype=tf.float32, shape=[None,13])\n",
    "y_ = tf.placeholder(tf.float32, [None, 1])\n",
    "pp = Feedforward(input_layer, 1, [32,16]) # two hidden layer 13->[32->16]->1"
   ]
  },
  {
   "cell_type": "code",
   "execution_count": 21,
   "metadata": {
    "collapsed": true
   },
   "outputs": [],
   "source": [
    "loss = tf.reduce_mean(tf.square(pp.output - y_))\n",
    "\n",
    "optimizer = tf.train.GradientDescentOptimizer(0.1)\n",
    "train = optimizer.minimize(loss)"
   ]
  },
  {
   "cell_type": "code",
   "execution_count": 22,
   "metadata": {},
   "outputs": [],
   "source": [
    "init = tf.global_variables_initializer()"
   ]
  },
  {
   "cell_type": "code",
   "execution_count": 23,
   "metadata": {
    "collapsed": true
   },
   "outputs": [],
   "source": [
    "sess = tf.Session()\n",
    "sess.run(init)"
   ]
  },
  {
   "cell_type": "code",
   "execution_count": 24,
   "metadata": {},
   "outputs": [
    {
     "name": "stdout",
     "output_type": "stream",
     "text": [
      "0 406.981 422.036\n",
      "20 84.6758 83.8429\n",
      "40 84.6329 83.6169\n",
      "60 84.6329 83.6148\n",
      "80 84.6329 83.6148\n",
      "100 84.6329 83.6148\n",
      "120 84.6329 83.6148\n",
      "140 84.6329 83.6148\n",
      "160 84.6329 83.6148\n",
      "180 84.6329 83.6148\n"
     ]
    }
   ],
   "source": [
    "for step in range(200):\n",
    "    sess.run(train, feed_dict={input_layer: X_train, y_: y_train})\n",
    "    if step % 20 == 0:\n",
    "        print(step, sess.run(loss, feed_dict={input_layer: X_train, y_: y_train}), \n",
    "              sess.run(loss, feed_dict={input_layer: X_test, y_: y_test}))"
   ]
  }
 ],
 "metadata": {
  "kernelspec": {
   "display_name": "Python [conda env:ml_py35]",
   "language": "python",
   "name": "conda-env-ml_py35-py"
  },
  "language_info": {
   "codemirror_mode": {
    "name": "ipython",
    "version": 3
   },
   "file_extension": ".py",
   "mimetype": "text/x-python",
   "name": "python",
   "nbconvert_exporter": "python",
   "pygments_lexer": "ipython3",
   "version": "3.5.3"
  }
 },
 "nbformat": 4,
 "nbformat_minor": 2
}
